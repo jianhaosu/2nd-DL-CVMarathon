{
 "cells": [
  {
   "cell_type": "markdown",
   "metadata": {},
   "source": [
    "# 作業\n",
    "\n",
    "練習以旋轉變換 + 平移變換來實現仿射變換\n",
    "> 旋轉 45 度 + 縮放 0.5 倍 + 平移 (x+100, y-50)"
   ]
  },
  {
   "cell_type": "code",
   "execution_count": 2,
   "metadata": {},
   "outputs": [],
   "source": [
    "import cv2\n",
    "import time\n",
    "import numpy as np\n",
    "\n",
    "img = cv2.imread('data/lena.png')"
   ]
  },
  {
   "cell_type": "markdown",
   "metadata": {},
   "source": [
    "## Affine Transformation - Case 2: any three point"
   ]
  },
  {
   "cell_type": "code",
   "execution_count": 53,
   "metadata": {},
   "outputs": [
    {
     "name": "stdout",
     "output_type": "stream",
     "text": [
      "[[  0.35355339   0.35355339  74.98066402]\n",
      " [ -0.35355339   0.35355339 256.        ]]\n",
      "(2, 3)\n",
      "(3, 3)\n",
      "float64\n",
      "float64\n",
      "uint8\n",
      "[ 0.9363637   0.31818187 17.27272     0.11818182  0.8090909  33.636353  ]\n"
     ]
    }
   ],
   "source": [
    "# 給定兩兩一對，共三對的點\n",
    "# 這邊我們先用手動設定三對點，一般情況下會有點的資料或是透過介面手動標記三個點\n",
    "rows, cols = img.shape[:2]\n",
    "pt1 = np.array([[50,50], [300,100], [200,300]], dtype=np.float32)\n",
    "pt2 = np.array([[80,80], [330,150], [300,300]], dtype=np.float32)\n",
    "\n",
    "# 取得 affine 矩陣並做 affine 操作\n",
    "M_rotate = cv2.getRotationMatrix2D((cols//2, rows//2), 45, 0.5)\n",
    "#M_rotate =  np.array([M_rotate[0],M_rotate[1],[0,0,1]])\n",
    "print(M_rotate)\n",
    "print(M_rotate.shape)\n",
    "M_translate = np.array([[1, 0, 100], [0, 1, -50],[0,0,1]], dtype=np.float64)\n",
    "print(M_translate.shape)\n",
    "print(M_rotate.dtype)\n",
    "print(M_translate.dtype)\n",
    "\"\"\"\n",
    "M_affine = np.dot(M_translate.T,M_rotate).astype('float')\n",
    "print(M_affine)\n",
    "print(\"af\",M_affine.shape)\n",
    "print(M_affine.dtype)\n",
    "\"\"\"\n",
    "\n",
    "print(img.dtype)\n",
    "x = np.array([\n",
    "             [pt1[0,0]    ,pt1[0,1]       ,1,  0 ,0,0],   \n",
    "              [ 0 ,0,0, pt1[0,0]    ,pt1[0,1]       ,1 ],\n",
    "                 [pt1[1,0]    ,pt1[1,1]       ,1,  0 ,0,0],   \n",
    "              [ 0 ,0,0, pt1[1,0]    ,pt1[1,1]       ,1 ],\n",
    "                     [pt1[2,0]    ,pt1[2,1]       ,1,  0 ,0,0],   \n",
    "              [ 0 ,0,0, pt1[2,0]    ,pt1[2,1]       ,1 ],\n",
    "             ] ,dtype=np.float32)\n",
    "#pt2[0,0] ,pt2[0,1] , pt2[1,0] ,pt2[1,1] pt2[2,0] ,pt2[2,1] \n",
    "y = np.array([   pt2[0,0] ,pt2[0,1] ,pt2[1,0] ,pt2[1,1] ,pt2[2,0] ,pt2[2,1] ],dtype=np.float32)\n",
    "z = np.dot(np.linalg.inv(x)  ,y.T)\n",
    "print(z)\n",
    "M_affine=  np.array([  [z[0 ] , z[1], z[2]],\n",
    "                     [z[3],z[4], z[5]]\n",
    "                    ],dtype=np.float32)\n",
    "\n",
    "img_affine =  cv2.warpAffine(img, M_affine,(img.shape[0], img.shape[1]))\n",
    "\n",
    "# 在圖片上標記點\n",
    "img_copy = img.copy()\n",
    "for idx, pts in enumerate(pt1):\n",
    "    pts = tuple(map(int, pts))\n",
    "    cv2.circle(img_copy, pts, 3, (0, 255, 0), -1)\n",
    "    cv2.putText(img_copy, str(idx), (pts[0]+5, pts[1]+5), cv2.FONT_HERSHEY_COMPLEX, 1, (0, 255, 0), 1)\n",
    "\n",
    "for idx, pts in enumerate(pt2):\n",
    "    pts = tuple(map(int, pts))\n",
    "    cv2.circle(img_affine, pts, 3, (0, 255, 0), -1)\n",
    "    cv2.putText(img_affine, str(idx), (pts[0]+5, pts[1]+5), cv2.FONT_HERSHEY_COMPLEX, 1, (0, 255, 0), 1)\n",
    "\n",
    "# 組合 + 顯示圖片\n",
    "img_show_affine = np.hstack((img_copy, img_affine))\n",
    "while True:\n",
    "    cv2.imshow('affine transformation', img_show_affine)\n",
    "    k = cv2.waitKey(0)\n",
    "    if k == 27:\n",
    "        cv2.destroyAllWindows()\n",
    "        break"
   ]
  }
 ],
 "metadata": {
  "kernelspec": {
   "display_name": "Python 3",
   "language": "python",
   "name": "python3"
  },
  "language_info": {
   "codemirror_mode": {
    "name": "ipython",
    "version": 3
   },
   "file_extension": ".py",
   "mimetype": "text/x-python",
   "name": "python",
   "nbconvert_exporter": "python",
   "pygments_lexer": "ipython3",
   "version": "3.7.3"
  }
 },
 "nbformat": 4,
 "nbformat_minor": 2
}
